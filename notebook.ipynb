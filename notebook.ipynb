{
 "cells": [
  {
   "cell_type": "code",
   "execution_count": 1,
   "id": "fbc121e30a2defb3",
   "metadata": {
    "ExecuteTime": {
     "end_time": "2025-05-05T14:11:54.980550Z",
     "start_time": "2025-05-05T14:11:53.277220Z"
    }
   },
   "outputs": [
    {
     "name": "stdout",
     "output_type": "stream",
     "text": [
      "Path to model files: C:\\Users\\Huawei\\.cache\\kagglehub\\models\\krishnagarigipati\\pneumonia-detector\\keras\\v1\\1\n"
     ]
    }
   ],
   "source": [
    "import kagglehub\n",
    "\n",
    "# Download latest version\n",
    "path = kagglehub.model_download(\"krishnagarigipati/pneumonia-detector/keras/v1\")\n",
    "\n",
    "print(\"Path to model files:\", path)"
   ]
  },
  {
   "cell_type": "code",
   "execution_count": 11,
   "id": "6e30721c29c42783",
   "metadata": {
    "ExecuteTime": {
     "end_time": "2025-05-05T14:41:05.505447Z",
     "start_time": "2025-05-05T14:41:02.614268Z"
    }
   },
   "outputs": [
    {
     "name": "stderr",
     "output_type": "stream",
     "text": [
      "WARNING:absl:Compiled the loaded model, but the compiled metrics have yet to be built. `model.compile_metrics` will be empty until you train or evaluate the model.\n"
     ]
    },
    {
     "ename": "ImportError",
     "evalue": "Could not import PIL.Image. The use of `load_img` requires PIL.",
     "output_type": "error",
     "traceback": [
      "\u001b[31m---------------------------------------------------------------------------\u001b[39m",
      "\u001b[31mImportError\u001b[39m                               Traceback (most recent call last)",
      "\u001b[36mCell\u001b[39m\u001b[36m \u001b[39m\u001b[32mIn[11]\u001b[39m\u001b[32m, line 20\u001b[39m\n\u001b[32m     18\u001b[39m \u001b[38;5;66;03m# Example: Test the model with a sample image\u001b[39;00m\n\u001b[32m     19\u001b[39m sample_image_path = \u001b[33m'\u001b[39m\u001b[33mdata/Normal/IM-0009-0001.jpeg\u001b[39m\u001b[33m'\u001b[39m\n\u001b[32m---> \u001b[39m\u001b[32m20\u001b[39m processed_image = \u001b[43mpreprocess_image\u001b[49m\u001b[43m(\u001b[49m\u001b[43msample_image_path\u001b[49m\u001b[43m)\u001b[49m\n\u001b[32m     22\u001b[39m \u001b[38;5;66;03m# Make a prediction\u001b[39;00m\n\u001b[32m     23\u001b[39m prediction = model.predict(processed_image)\n",
      "\u001b[36mCell\u001b[39m\u001b[36m \u001b[39m\u001b[32mIn[11]\u001b[39m\u001b[32m, line 12\u001b[39m, in \u001b[36mpreprocess_image\u001b[39m\u001b[34m(img_path)\u001b[39m\n\u001b[32m     11\u001b[39m \u001b[38;5;28;01mdef\u001b[39;00m\u001b[38;5;250m \u001b[39m\u001b[34mpreprocess_image\u001b[39m(img_path):\n\u001b[32m---> \u001b[39m\u001b[32m12\u001b[39m     img = \u001b[43mimage\u001b[49m\u001b[43m.\u001b[49m\u001b[43mload_img\u001b[49m\u001b[43m(\u001b[49m\u001b[43mimg_path\u001b[49m\u001b[43m,\u001b[49m\u001b[43m \u001b[49m\u001b[43mtarget_size\u001b[49m\u001b[43m=\u001b[49m\u001b[43m(\u001b[49m\u001b[32;43m224\u001b[39;49m\u001b[43m,\u001b[49m\u001b[43m \u001b[49m\u001b[32;43m224\u001b[39;49m\u001b[43m)\u001b[49m\u001b[43m)\u001b[49m\n\u001b[32m     13\u001b[39m     img_array = image.img_to_array(img)\n\u001b[32m     14\u001b[39m     img_array = np.expand_dims(img_array, axis=\u001b[32m0\u001b[39m)  \u001b[38;5;66;03m# Add batch dimension\u001b[39;00m\n",
      "\u001b[36mFile \u001b[39m\u001b[32m~\\PyCharmMiscProject\\.venv\\Lib\\site-packages\\keras\\src\\utils\\image_utils.py:227\u001b[39m, in \u001b[36mload_img\u001b[39m\u001b[34m(path, color_mode, target_size, interpolation, keep_aspect_ratio)\u001b[39m\n\u001b[32m    195\u001b[39m \u001b[38;5;250m\u001b[39m\u001b[33;03m\"\"\"Loads an image into PIL format.\u001b[39;00m\n\u001b[32m    196\u001b[39m \n\u001b[32m    197\u001b[39m \u001b[33;03mExample:\u001b[39;00m\n\u001b[32m   (...)\u001b[39m\u001b[32m    224\u001b[39m \u001b[33;03m    A PIL Image instance.\u001b[39;00m\n\u001b[32m    225\u001b[39m \u001b[33;03m\"\"\"\u001b[39;00m\n\u001b[32m    226\u001b[39m \u001b[38;5;28;01mif\u001b[39;00m pil_image \u001b[38;5;129;01mis\u001b[39;00m \u001b[38;5;28;01mNone\u001b[39;00m:\n\u001b[32m--> \u001b[39m\u001b[32m227\u001b[39m     \u001b[38;5;28;01mraise\u001b[39;00m \u001b[38;5;167;01mImportError\u001b[39;00m(\n\u001b[32m    228\u001b[39m         \u001b[33m\"\u001b[39m\u001b[33mCould not import PIL.Image. The use of `load_img` requires PIL.\u001b[39m\u001b[33m\"\u001b[39m\n\u001b[32m    229\u001b[39m     )\n\u001b[32m    230\u001b[39m \u001b[38;5;28;01mif\u001b[39;00m \u001b[38;5;28misinstance\u001b[39m(path, io.BytesIO):\n\u001b[32m    231\u001b[39m     img = pil_image.open(path)\n",
      "\u001b[31mImportError\u001b[39m: Could not import PIL.Image. The use of `load_img` requires PIL."
     ]
    }
   ],
   "source": [
    "import keras\n",
    "from keras.models import load_model\n",
    "from keras.preprocessing import image\n",
    "import numpy as np\n",
    "\n",
    "\n",
    "# Load the trained model\n",
    "model = load_model(path + '/final_pneumonia_model.h5')\n",
    "\n",
    "# Function to load and preprocess image\n",
    "def preprocess_image(img_path):\n",
    "    img = image.load_img(img_path, target_size=(224, 224))\n",
    "    img_array = image.img_to_array(img)\n",
    "    img_array = np.expand_dims(img_array, axis=0)  # Add batch dimension\n",
    "    img_array /= 255.0  # Normalize image\n",
    "    return img_array\n",
    "\n",
    "# Example: Test the model with a sample image\n",
    "sample_image_path = 'data/Normal/IM-0009-0001.jpeg'\n",
    "processed_image = preprocess_image(sample_image_path)\n",
    "\n",
    "# Make a prediction\n",
    "prediction = model.predict(processed_image)\n",
    "print(f'Prediction: {prediction}')\n"
   ]
  },
  {
   "cell_type": "code",
   "execution_count": 10,
   "id": "6da99b35dd522ab9",
   "metadata": {
    "ExecuteTime": {
     "end_time": "2025-05-05T14:40:56.725774Z",
     "start_time": "2025-05-05T14:40:50.755117Z"
    }
   },
   "outputs": [
    {
     "name": "stderr",
     "output_type": "stream",
     "text": [
      "WARNING:absl:Compiled the loaded model, but the compiled metrics have yet to be built. `model.compile_metrics` will be empty until you train or evaluate the model.\n"
     ]
    },
    {
     "name": "stdout",
     "output_type": "stream",
     "text": [
      "Error: Could not import PIL.Image. The use of `load_img` requires PIL.\n"
     ]
    }
   ],
   "source": [
    "from tensorflow.keras.models import load_model\n",
    "import numpy as np\n",
    "from tensorflow.keras.utils import load_img, img_to_array\n",
    "import os\n",
    "\n",
    "# Укажите полный путь к модели\n",
    "global model_path = os.path.join(path, 'final_pneumonia_model.h5')\n",
    "model = load_model(model_path)\n",
    "\n",
    "def preprocess_image(img_path):\n",
    "    # Загрузка изображения с помощью современного метода\n",
    "    img = load_img(img_path, target_size=(224, 224), color_mode='rgb')\n",
    "    img_array = img_to_array(img)\n",
    "    img_array = np.expand_dims(img_array, axis=0)\n",
    "    img_array = img_array / 255.0  # Нормализация\n",
    "    return img_array\n",
    "\n",
    "# Пример использования\n",
    "sample_image_path = 'data/Pneumonia/person104_bacteria_492.jpeg'\n",
    "\n",
    "try:\n",
    "    processed_image = preprocess_image(sample_image_path)\n",
    "    prediction = model.predict(processed_image)\n",
    "    print(f'Prediction probability: {prediction[0][0]:.4f}')\n",
    "except Exception as e:\n",
    "    print(f'Error: {str(e)}')"
   ]
  },
  {
   "cell_type": "code",
   "execution_count": null,
   "id": "23adcb2401f30fac",
   "metadata": {},
   "outputs": [],
   "source": []
  }
 ],
 "metadata": {
  "kernelspec": {
   "display_name": ".venv",
   "language": "python",
   "name": "python3"
  },
  "language_info": {
   "codemirror_mode": {
    "name": "ipython",
    "version": 3
   },
   "file_extension": ".py",
   "mimetype": "text/x-python",
   "name": "python",
   "nbconvert_exporter": "python",
   "pygments_lexer": "ipython3",
   "version": "3.12.7"
  }
 },
 "nbformat": 4,
 "nbformat_minor": 5
}
